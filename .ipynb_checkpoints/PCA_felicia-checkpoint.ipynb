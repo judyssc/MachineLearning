{
 "cells": [
  {
   "cell_type": "markdown",
   "metadata": {},
   "source": [
    "## Principal Component Analysis"
   ]
  },
  {
   "cell_type": "markdown",
   "metadata": {},
   "source": [
    "### Source: "
   ]
  },
  {
   "cell_type": "markdown",
   "metadata": {},
   "source": [
    "https://www.kaggle.com/lava18/google-play-store-apps"
   ]
  },
  {
   "cell_type": "markdown",
   "metadata": {},
   "source": [
    "### Defining the Problem Statement "
   ]
  },
  {
   "cell_type": "markdown",
   "metadata": {},
   "source": [
    "This dataset records the attributes of Android mobile application details. From this dataset, we would like to be able to find the best clustering results/optimum number of clusters."
   ]
  },
  {
   "cell_type": "markdown",
   "metadata": {},
   "source": [
    "### Collecting the Data"
   ]
  },
  {
   "cell_type": "code",
   "execution_count": 1,
   "metadata": {},
   "outputs": [],
   "source": [
    "# Adding Required Libraries\n",
    "import numpy as np\n",
    "import matplotlib.pyplot as plt\n",
    "import pandas as pd\n",
    "from sklearn import datasets\n",
    "from sklearn.cluster import KMeans"
   ]
  },
  {
   "cell_type": "code",
   "execution_count": 2,
   "metadata": {},
   "outputs": [
    {
     "name": "stdout",
     "output_type": "stream",
     "text": [
      "Index(['Category', 'Rating', 'Reviews', 'Size', 'Installs', 'Type', 'Price',\n",
      "       'Content Rating', 'Genres'],\n",
      "      dtype='object')\n"
     ]
    },
    {
     "data": {
      "text/html": [
       "<div>\n",
       "<style scoped>\n",
       "    .dataframe tbody tr th:only-of-type {\n",
       "        vertical-align: middle;\n",
       "    }\n",
       "\n",
       "    .dataframe tbody tr th {\n",
       "        vertical-align: top;\n",
       "    }\n",
       "\n",
       "    .dataframe thead th {\n",
       "        text-align: right;\n",
       "    }\n",
       "</style>\n",
       "<table border=\"1\" class=\"dataframe\">\n",
       "  <thead>\n",
       "    <tr style=\"text-align: right;\">\n",
       "      <th></th>\n",
       "      <th>Category</th>\n",
       "      <th>Reviews</th>\n",
       "      <th>Size</th>\n",
       "      <th>Installs</th>\n",
       "      <th>Type</th>\n",
       "      <th>Price</th>\n",
       "      <th>Content Rating</th>\n",
       "      <th>Genres</th>\n",
       "    </tr>\n",
       "  </thead>\n",
       "  <tbody>\n",
       "    <tr>\n",
       "      <th>count</th>\n",
       "      <td>7723.000000</td>\n",
       "      <td>7.723000e+03</td>\n",
       "      <td>7723.00000</td>\n",
       "      <td>7723.000000</td>\n",
       "      <td>7723.000000</td>\n",
       "      <td>7723.000000</td>\n",
       "      <td>7723.000000</td>\n",
       "      <td>7723.000000</td>\n",
       "    </tr>\n",
       "    <tr>\n",
       "      <th>mean</th>\n",
       "      <td>16.551599</td>\n",
       "      <td>2.948983e+05</td>\n",
       "      <td>37.30707</td>\n",
       "      <td>11.000129</td>\n",
       "      <td>0.074712</td>\n",
       "      <td>1.128169</td>\n",
       "      <td>1.473909</td>\n",
       "      <td>60.559368</td>\n",
       "    </tr>\n",
       "    <tr>\n",
       "      <th>std</th>\n",
       "      <td>8.128757</td>\n",
       "      <td>1.863933e+06</td>\n",
       "      <td>93.54223</td>\n",
       "      <td>3.213200</td>\n",
       "      <td>0.262943</td>\n",
       "      <td>17.408036</td>\n",
       "      <td>1.010531</td>\n",
       "      <td>32.423595</td>\n",
       "    </tr>\n",
       "    <tr>\n",
       "      <th>min</th>\n",
       "      <td>0.000000</td>\n",
       "      <td>1.000000e+00</td>\n",
       "      <td>1.00000</td>\n",
       "      <td>1.000000</td>\n",
       "      <td>0.000000</td>\n",
       "      <td>0.000000</td>\n",
       "      <td>0.000000</td>\n",
       "      <td>0.000000</td>\n",
       "    </tr>\n",
       "    <tr>\n",
       "      <th>25%</th>\n",
       "      <td>11.000000</td>\n",
       "      <td>1.075000e+02</td>\n",
       "      <td>6.10000</td>\n",
       "      <td>9.000000</td>\n",
       "      <td>0.000000</td>\n",
       "      <td>0.000000</td>\n",
       "      <td>1.000000</td>\n",
       "      <td>35.000000</td>\n",
       "    </tr>\n",
       "    <tr>\n",
       "      <th>50%</th>\n",
       "      <td>14.000000</td>\n",
       "      <td>2.332000e+03</td>\n",
       "      <td>16.00000</td>\n",
       "      <td>11.000000</td>\n",
       "      <td>0.000000</td>\n",
       "      <td>0.000000</td>\n",
       "      <td>1.000000</td>\n",
       "      <td>64.000000</td>\n",
       "    </tr>\n",
       "    <tr>\n",
       "      <th>75%</th>\n",
       "      <td>24.000000</td>\n",
       "      <td>3.905300e+04</td>\n",
       "      <td>37.00000</td>\n",
       "      <td>13.000000</td>\n",
       "      <td>0.000000</td>\n",
       "      <td>0.000000</td>\n",
       "      <td>1.000000</td>\n",
       "      <td>92.000000</td>\n",
       "    </tr>\n",
       "    <tr>\n",
       "      <th>max</th>\n",
       "      <td>32.000000</td>\n",
       "      <td>4.489389e+07</td>\n",
       "      <td>994.00000</td>\n",
       "      <td>19.000000</td>\n",
       "      <td>1.000000</td>\n",
       "      <td>400.000000</td>\n",
       "      <td>5.000000</td>\n",
       "      <td>114.000000</td>\n",
       "    </tr>\n",
       "  </tbody>\n",
       "</table>\n",
       "</div>"
      ],
      "text/plain": [
       "          Category       Reviews        Size     Installs         Type  \\\n",
       "count  7723.000000  7.723000e+03  7723.00000  7723.000000  7723.000000   \n",
       "mean     16.551599  2.948983e+05    37.30707    11.000129     0.074712   \n",
       "std       8.128757  1.863933e+06    93.54223     3.213200     0.262943   \n",
       "min       0.000000  1.000000e+00     1.00000     1.000000     0.000000   \n",
       "25%      11.000000  1.075000e+02     6.10000     9.000000     0.000000   \n",
       "50%      14.000000  2.332000e+03    16.00000    11.000000     0.000000   \n",
       "75%      24.000000  3.905300e+04    37.00000    13.000000     0.000000   \n",
       "max      32.000000  4.489389e+07   994.00000    19.000000     1.000000   \n",
       "\n",
       "             Price  Content Rating       Genres  \n",
       "count  7723.000000     7723.000000  7723.000000  \n",
       "mean      1.128169        1.473909    60.559368  \n",
       "std      17.408036        1.010531    32.423595  \n",
       "min       0.000000        0.000000     0.000000  \n",
       "25%       0.000000        1.000000    35.000000  \n",
       "50%       0.000000        1.000000    64.000000  \n",
       "75%       0.000000        1.000000    92.000000  \n",
       "max     400.000000        5.000000   114.000000  "
      ]
     },
     "execution_count": 2,
     "metadata": {},
     "output_type": "execute_result"
    }
   ],
   "source": [
    "# Read in data from the file\n",
    "df = pd.read_csv('googleps_cleaned.csv')\n",
    "print(df.columns)\n",
    "df.describe()"
   ]
  },
  {
   "cell_type": "markdown",
   "metadata": {},
   "source": [
    "### Scaling the dataset"
   ]
  },
  {
   "cell_type": "markdown",
   "metadata": {},
   "source": [
    "- Target is the 'Rating' column. "
   ]
  },
  {
   "cell_type": "code",
   "execution_count": 3,
   "metadata": {},
   "outputs": [
    {
     "data": {
      "text/html": [
       "<div>\n",
       "<style scoped>\n",
       "    .dataframe tbody tr th:only-of-type {\n",
       "        vertical-align: middle;\n",
       "    }\n",
       "\n",
       "    .dataframe tbody tr th {\n",
       "        vertical-align: top;\n",
       "    }\n",
       "\n",
       "    .dataframe thead th {\n",
       "        text-align: right;\n",
       "    }\n",
       "</style>\n",
       "<table border=\"1\" class=\"dataframe\">\n",
       "  <thead>\n",
       "    <tr style=\"text-align: right;\">\n",
       "      <th></th>\n",
       "      <th>Category</th>\n",
       "      <th>Reviews</th>\n",
       "      <th>Size</th>\n",
       "      <th>Installs</th>\n",
       "      <th>Type</th>\n",
       "      <th>Price</th>\n",
       "      <th>Content Rating</th>\n",
       "      <th>Genres</th>\n",
       "    </tr>\n",
       "  </thead>\n",
       "  <tbody>\n",
       "    <tr>\n",
       "      <th>0</th>\n",
       "      <td>-2.03631</td>\n",
       "      <td>-0.158138</td>\n",
       "      <td>-0.195722</td>\n",
       "      <td>-0.622513</td>\n",
       "      <td>-0.284156</td>\n",
       "      <td>-0.064812</td>\n",
       "      <td>-0.469001</td>\n",
       "      <td>-1.590283</td>\n",
       "    </tr>\n",
       "    <tr>\n",
       "      <th>1</th>\n",
       "      <td>-2.03631</td>\n",
       "      <td>-0.157704</td>\n",
       "      <td>-0.249177</td>\n",
       "      <td>0.311196</td>\n",
       "      <td>-0.284156</td>\n",
       "      <td>-0.064812</td>\n",
       "      <td>-0.469001</td>\n",
       "      <td>-1.528596</td>\n",
       "    </tr>\n",
       "    <tr>\n",
       "      <th>2</th>\n",
       "      <td>-2.03631</td>\n",
       "      <td>-0.111271</td>\n",
       "      <td>-0.305840</td>\n",
       "      <td>0.933669</td>\n",
       "      <td>-0.284156</td>\n",
       "      <td>-0.064812</td>\n",
       "      <td>-0.469001</td>\n",
       "      <td>-1.590283</td>\n",
       "    </tr>\n",
       "    <tr>\n",
       "      <th>3</th>\n",
       "      <td>-2.03631</td>\n",
       "      <td>-0.042523</td>\n",
       "      <td>-0.131576</td>\n",
       "      <td>1.556141</td>\n",
       "      <td>-0.284156</td>\n",
       "      <td>-0.064812</td>\n",
       "      <td>2.499928</td>\n",
       "      <td>-1.590283</td>\n",
       "    </tr>\n",
       "    <tr>\n",
       "      <th>4</th>\n",
       "      <td>-2.03631</td>\n",
       "      <td>-0.157704</td>\n",
       "      <td>-0.368917</td>\n",
       "      <td>-0.000040</td>\n",
       "      <td>-0.284156</td>\n",
       "      <td>-0.064812</td>\n",
       "      <td>-0.469001</td>\n",
       "      <td>-1.559440</td>\n",
       "    </tr>\n",
       "  </tbody>\n",
       "</table>\n",
       "</div>"
      ],
      "text/plain": [
       "   Category   Reviews      Size  Installs      Type     Price  Content Rating  \\\n",
       "0  -2.03631 -0.158138 -0.195722 -0.622513 -0.284156 -0.064812       -0.469001   \n",
       "1  -2.03631 -0.157704 -0.249177  0.311196 -0.284156 -0.064812       -0.469001   \n",
       "2  -2.03631 -0.111271 -0.305840  0.933669 -0.284156 -0.064812       -0.469001   \n",
       "3  -2.03631 -0.042523 -0.131576  1.556141 -0.284156 -0.064812        2.499928   \n",
       "4  -2.03631 -0.157704 -0.368917 -0.000040 -0.284156 -0.064812       -0.469001   \n",
       "\n",
       "     Genres  \n",
       "0 -1.590283  \n",
       "1 -1.528596  \n",
       "2 -1.590283  \n",
       "3 -1.590283  \n",
       "4 -1.559440  "
      ]
     },
     "execution_count": 3,
     "metadata": {},
     "output_type": "execute_result"
    }
   ],
   "source": [
    "from sklearn.preprocessing import StandardScaler\n",
    "features = ['Category', 'Reviews', 'Size', 'Installs', 'Type', 'Price', 'Content Rating', 'Genres']\n",
    "\n",
    "x = df.loc[:, features].values\n",
    "y = df.loc[:,['Rating']].values\n",
    "x = StandardScaler().fit_transform(x)\n",
    "\n",
    "pd.DataFrame(data=x, columns = features).head()"
   ]
  },
  {
   "cell_type": "markdown",
   "metadata": {},
   "source": [
    "### Performing 2D Principal Component Analysis"
   ]
  },
  {
   "cell_type": "code",
   "execution_count": 4,
   "metadata": {},
   "outputs": [
    {
     "data": {
      "text/html": [
       "<div>\n",
       "<style scoped>\n",
       "    .dataframe tbody tr th:only-of-type {\n",
       "        vertical-align: middle;\n",
       "    }\n",
       "\n",
       "    .dataframe tbody tr th {\n",
       "        vertical-align: top;\n",
       "    }\n",
       "\n",
       "    .dataframe thead th {\n",
       "        text-align: right;\n",
       "    }\n",
       "</style>\n",
       "<table border=\"1\" class=\"dataframe\">\n",
       "  <thead>\n",
       "    <tr style=\"text-align: right;\">\n",
       "      <th></th>\n",
       "      <th>principal component 1</th>\n",
       "      <th>principal component 2</th>\n",
       "    </tr>\n",
       "  </thead>\n",
       "  <tbody>\n",
       "    <tr>\n",
       "      <th>0</th>\n",
       "      <td>2.289136</td>\n",
       "      <td>-0.859828</td>\n",
       "    </tr>\n",
       "    <tr>\n",
       "      <th>1</th>\n",
       "      <td>2.329817</td>\n",
       "      <td>-0.278366</td>\n",
       "    </tr>\n",
       "    <tr>\n",
       "      <th>2</th>\n",
       "      <td>2.431526</td>\n",
       "      <td>0.115043</td>\n",
       "    </tr>\n",
       "    <tr>\n",
       "      <th>3</th>\n",
       "      <td>3.235964</td>\n",
       "      <td>1.048576</td>\n",
       "    </tr>\n",
       "    <tr>\n",
       "      <th>4</th>\n",
       "      <td>2.325821</td>\n",
       "      <td>-0.468200</td>\n",
       "    </tr>\n",
       "  </tbody>\n",
       "</table>\n",
       "</div>"
      ],
      "text/plain": [
       "   principal component 1  principal component 2\n",
       "0               2.289136              -0.859828\n",
       "1               2.329817              -0.278366\n",
       "2               2.431526               0.115043\n",
       "3               3.235964               1.048576\n",
       "4               2.325821              -0.468200"
      ]
     },
     "execution_count": 4,
     "metadata": {},
     "output_type": "execute_result"
    }
   ],
   "source": [
    "from sklearn.decomposition import PCA\n",
    "pca = PCA(n_components=2)\n",
    "principalComponents = pca.fit_transform(x)\n",
    "principalDf = pd.DataFrame(data = principalComponents\n",
    "             , columns = ['principal component 1', 'principal component 2'])\n",
    "principalDf.head()"
   ]
  },
  {
   "cell_type": "code",
   "execution_count": 5,
   "metadata": {},
   "outputs": [
    {
     "data": {
      "text/html": [
       "<div>\n",
       "<style scoped>\n",
       "    .dataframe tbody tr th:only-of-type {\n",
       "        vertical-align: middle;\n",
       "    }\n",
       "\n",
       "    .dataframe tbody tr th {\n",
       "        vertical-align: top;\n",
       "    }\n",
       "\n",
       "    .dataframe thead th {\n",
       "        text-align: right;\n",
       "    }\n",
       "</style>\n",
       "<table border=\"1\" class=\"dataframe\">\n",
       "  <thead>\n",
       "    <tr style=\"text-align: right;\">\n",
       "      <th></th>\n",
       "      <th>principal component 1</th>\n",
       "      <th>principal component 2</th>\n",
       "      <th>Rating</th>\n",
       "    </tr>\n",
       "  </thead>\n",
       "  <tbody>\n",
       "    <tr>\n",
       "      <th>0</th>\n",
       "      <td>2.289136</td>\n",
       "      <td>-0.859828</td>\n",
       "      <td>High Rating</td>\n",
       "    </tr>\n",
       "    <tr>\n",
       "      <th>1</th>\n",
       "      <td>2.329817</td>\n",
       "      <td>-0.278366</td>\n",
       "      <td>Average Rating</td>\n",
       "    </tr>\n",
       "    <tr>\n",
       "      <th>2</th>\n",
       "      <td>2.431526</td>\n",
       "      <td>0.115043</td>\n",
       "      <td>High Rating</td>\n",
       "    </tr>\n",
       "    <tr>\n",
       "      <th>3</th>\n",
       "      <td>3.235964</td>\n",
       "      <td>1.048576</td>\n",
       "      <td>High Rating</td>\n",
       "    </tr>\n",
       "    <tr>\n",
       "      <th>4</th>\n",
       "      <td>2.325821</td>\n",
       "      <td>-0.468200</td>\n",
       "      <td>High Rating</td>\n",
       "    </tr>\n",
       "  </tbody>\n",
       "</table>\n",
       "</div>"
      ],
      "text/plain": [
       "   principal component 1  principal component 2          Rating\n",
       "0               2.289136              -0.859828     High Rating\n",
       "1               2.329817              -0.278366  Average Rating\n",
       "2               2.431526               0.115043     High Rating\n",
       "3               3.235964               1.048576     High Rating\n",
       "4               2.325821              -0.468200     High Rating"
      ]
     },
     "execution_count": 5,
     "metadata": {},
     "output_type": "execute_result"
    }
   ],
   "source": [
    "finalDf = pd.concat([principalDf, df[['Rating']]], axis = 1)\n",
    "finalDf.head(5)"
   ]
  },
  {
   "cell_type": "code",
   "execution_count": 6,
   "metadata": {},
   "outputs": [
    {
     "data": {
      "image/png": "[encoded data removed]",
      "text/plain": [
       "<Figure size 2160x936 with 1 Axes>"
      ]
     },
     "metadata": {
      "needs_background": "light"
     },
     "output_type": "display_data"
    }
   ],
   "source": [
    "fig = plt.figure(figsize = (30,13))\n",
    "ax1 = fig.add_subplot(1,2,1) \n",
    "ax1.set_xlabel('Principal Component 1', fontsize = 15)\n",
    "ax1.set_ylabel('Principal Component 2', fontsize = 15)\n",
    "ax1.set_title('2 Component PCA', fontsize = 20)\n",
    "\n",
    "targets = ['Low Rating', 'Average Rating', 'High Rating']\n",
    "colors = 'rgb'\n",
    "for target, color in zip(targets,colors):\n",
    "    indicesToKeep = finalDf['Rating'] == target\n",
    "    ax1.scatter(finalDf.loc[indicesToKeep, 'principal component 1']\n",
    "               , finalDf.loc[indicesToKeep, 'principal component 2']\n",
    "               , c = color\n",
    "               , s = 3)\n",
    "ax1.legend(targets)\n",
    "ax1.grid()"
   ]
  },
  {
   "cell_type": "code",
   "execution_count": 7,
   "metadata": {},
   "outputs": [
    {
     "name": "stdout",
     "output_type": "stream",
     "text": [
      "[0.22660842 0.18691077]\n",
      "0.41351918839260504\n"
     ]
    }
   ],
   "source": [
    "print(pca.explained_variance_ratio_)\n",
    "\n",
    "print(pca.explained_variance_ratio_.sum())"
   ]
  },
  {
   "cell_type": "markdown",
   "metadata": {},
   "source": [
    "### Explained Variance"
   ]
  },
  {
   "cell_type": "markdown",
   "metadata": {},
   "source": [
    "The explained variance tells us how much information (variance) can be attributed to each of the principal components.\n",
    "\n",
    "Together, the first two principal components contain 41.35% of the information. The first principal component contains 22.66% of the variance and the second principal component contains 18.69% of the variance. The remaining principal components contained the rest of the variance of the dataset."
   ]
  },
  {
   "cell_type": "markdown",
   "metadata": {},
   "source": [
    "### Fitting the PCA algorithm with our Data"
   ]
  },
  {
   "cell_type": "code",
   "execution_count": 8,
   "metadata": {},
   "outputs": [],
   "source": [
    "from sklearn.decomposition import PCA\n",
    "pca = PCA().fit(x)"
   ]
  },
  {
   "cell_type": "markdown",
   "metadata": {},
   "source": [
    "### Plotting the Cumulative Summation of the Explained Variance"
   ]
  },
  {
   "cell_type": "code",
   "execution_count": 9,
   "metadata": {
    "scrolled": true
   },
   "outputs": [
    {
     "data": {
      "image/png": "[encoded data removed]",
      "text/plain": [
       "<Figure size 432x288 with 1 Axes>"
      ]
     },
     "metadata": {
      "needs_background": "light"
     },
     "output_type": "display_data"
    }
   ],
   "source": [
    "plt.figure()\n",
    "plt.plot(np.cumsum(pca.explained_variance_ratio_))\n",
    "plt.xlim(0,8,1)\n",
    "plt.xlabel('Number of Components')\n",
    "plt.ylabel('Variance (%)') #for each component\n",
    "plt.show()"
   ]
  },
  {
   "cell_type": "markdown",
   "metadata": {},
   "source": [
    "The above plot shows almost 90% variance by the first 6 components. Therefore we can drop the last 2 components."
   ]
  },
  {
   "cell_type": "code",
   "execution_count": 10,
   "metadata": {},
   "outputs": [
    {
     "data": {
      "text/html": [
       "<div>\n",
       "<style scoped>\n",
       "    .dataframe tbody tr th:only-of-type {\n",
       "        vertical-align: middle;\n",
       "    }\n",
       "\n",
       "    .dataframe tbody tr th {\n",
       "        vertical-align: top;\n",
       "    }\n",
       "\n",
       "    .dataframe thead th {\n",
       "        text-align: right;\n",
       "    }\n",
       "</style>\n",
       "<table border=\"1\" class=\"dataframe\">\n",
       "  <thead>\n",
       "    <tr style=\"text-align: right;\">\n",
       "      <th></th>\n",
       "      <th>P1</th>\n",
       "      <th>P2</th>\n",
       "      <th>P3</th>\n",
       "      <th>P4</th>\n",
       "      <th>P5</th>\n",
       "      <th>P6</th>\n",
       "      <th>P7</th>\n",
       "      <th>P8</th>\n",
       "    </tr>\n",
       "  </thead>\n",
       "  <tbody>\n",
       "    <tr>\n",
       "      <th>Explained Variance Ratio</th>\n",
       "      <td>0.23</td>\n",
       "      <td>0.19</td>\n",
       "      <td>0.14</td>\n",
       "      <td>0.12</td>\n",
       "      <td>0.12</td>\n",
       "      <td>0.1</td>\n",
       "      <td>0.08</td>\n",
       "      <td>0.03</td>\n",
       "    </tr>\n",
       "  </tbody>\n",
       "</table>\n",
       "</div>"
      ],
      "text/plain": [
       "                            P1    P2    P3    P4    P5   P6    P7    P8\n",
       "Explained Variance Ratio  0.23  0.19  0.14  0.12  0.12  0.1  0.08  0.03"
      ]
     },
     "execution_count": 10,
     "metadata": {},
     "output_type": "execute_result"
    }
   ],
   "source": [
    "from pandas import DataFrame\n",
    "DataFrame(pca.explained_variance_ratio_.round(2), index = [\"P\" + str(i) for i in range(1,9)], columns=[\"Explained Variance Ratio\"]).T"
   ]
  },
  {
   "cell_type": "markdown",
   "metadata": {},
   "source": [
    "The above information further verifies that our two-dimensional projection loses a lot of information (as measured by the explained variance of 41.35%) and that we need about 6 components to retain 90% of the variance."
   ]
  }
 ],
 "metadata": {
  "kernelspec": {
   "display_name": "Python 3",
   "language": "python",
   "name": "python3"
  },
  "language_info": {
   "codemirror_mode": {
    "name": "ipython",
    "version": 3
   },
   "file_extension": ".py",
   "mimetype": "text/x-python",
   "name": "python",
   "nbconvert_exporter": "python",
   "pygments_lexer": "ipython3",
   "version": "3.7.3"
  }
 },
 "nbformat": 4,
 "nbformat_minor": 2
}
