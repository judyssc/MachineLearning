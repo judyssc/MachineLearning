{
 "cells": [
  {
   "cell_type": "markdown",
   "metadata": {},
   "source": [
    "# Google Play Store Data"
   ]
  },
  {
   "cell_type": "markdown",
   "metadata": {},
   "source": [
    "### Source: "
   ]
  },
  {
   "cell_type": "markdown",
   "metadata": {},
   "source": [
    "https://www.kaggle.com/lava18/google-play-store-apps"
   ]
  },
  {
   "cell_type": "markdown",
   "metadata": {},
   "source": [
    "### Data Cleansing"
   ]
  },
  {
   "cell_type": "markdown",
   "metadata": {},
   "source": [
    "- Remove all null value rows\n",
    "- Drop irrelevant columns \n",
    "- Perform encoding of values\n"
   ]
  },
  {
   "cell_type": "code",
   "execution_count": null,
   "metadata": {},
   "outputs": [],
   "source": [
    "import pandas as pd\n",
    "import matplotlib.pyplot as plt\n",
    "#Read the file\n",
    "df = pd.read_csv('googleplaystore.csv')"
   ]
  },
  {
   "cell_type": "code",
   "execution_count": null,
   "metadata": {},
   "outputs": [],
   "source": [
    "#Remove all the null value rows\n",
    "dfclean = df.copy().dropna()"
   ]
  },
  {
   "cell_type": "code",
   "execution_count": null,
   "metadata": {},
   "outputs": [],
   "source": [
    "#drop irrelevant columns\n",
    "to_drop =['App','Last Updated','Current Ver','Android Ver']"
   ]
  },
  {
   "cell_type": "code",
   "execution_count": null,
   "metadata": {
    "scrolled": true
   },
   "outputs": [],
   "source": [
    "dfclean.drop(to_drop, inplace=True,axis =1)"
   ]
  },
  {
   "cell_type": "code",
   "execution_count": null,
   "metadata": {},
   "outputs": [],
   "source": [
    "#Categorizing the values of the Content Rating column\n",
    "dict = {\n",
    "    'Adults only 18+': 0,\n",
    "    'Everyone': 1,\n",
    "    'Everyone 10+': 2,\n",
    "    'Mature 17+': 3,\n",
    "    'Teen': 4,\n",
    "    'Unrated': 5\n",
    "}\n",
    "\n",
    "dfclean['Content Rating'] = dfclean['Content Rating'].map(dict)"
   ]
  },
  {
   "cell_type": "code",
   "execution_count": null,
   "metadata": {},
   "outputs": [],
   "source": [
    "#Categorizing the values of the Category column\n",
    "dict = {'ART_AND_DESIGN':0,\n",
    " 'AUTO_AND_VEHICLES':1,\n",
    " 'BEAUTY':2,\n",
    " 'BOOKS_AND_REFERENCE':3,\n",
    " 'BUSINESS':4,\n",
    " 'COMICS':5,\n",
    " 'COMMUNICATION':6,\n",
    " 'DATING':7,\n",
    " 'EDUCATION':8,\n",
    " 'ENTERTAINMENT':9,\n",
    " 'EVENTS':10,\n",
    " 'FAMILY':11,\n",
    " 'FINANCE':12,\n",
    " 'FOOD_AND_DRINK':13,\n",
    " 'GAME':14,\n",
    " 'HEALTH_AND_FITNESS':15,\n",
    " 'HOUSE_AND_HOME':16,\n",
    " 'LIBRARIES_AND_DEMO':17,\n",
    " 'LIFESTYLE':18,\n",
    " 'MAPS_AND_NAVIGATION':19,\n",
    " 'MEDICAL':20,\n",
    " 'NEWS_AND_MAGAZINES':21,\n",
    " 'PARENTING':22,\n",
    " 'PERSONALIZATION':23,\n",
    " 'PHOTOGRAPHY':24,\n",
    " 'PRODUCTIVITY':25,\n",
    " 'SHOPPING':26,\n",
    " 'SOCIAL':27,\n",
    " 'SPORTS':28,\n",
    " 'TOOLS':29,\n",
    " 'TRAVEL_AND_LOCAL':30,\n",
    " 'VIDEO_PLAYERS':31,\n",
    " 'WEATHER':32}\n",
    "\n",
    "dfclean['Category'] = dfclean['Category'].map(dict)"
   ]
  },
  {
   "cell_type": "code",
   "execution_count": null,
   "metadata": {},
   "outputs": [],
   "source": [
    "#Categorizing the values of the Type column\n",
    "set(dfclean['Type'])"
   ]
  },
  {
   "cell_type": "code",
   "execution_count": null,
   "metadata": {},
   "outputs": [],
   "source": [
    "dict1 = {'Free':0, 'Paid':1}\n",
    "dfclean['Type'] = dfclean['Type'].map(dict1)"
   ]
  },
  {
   "cell_type": "code",
   "execution_count": null,
   "metadata": {},
   "outputs": [],
   "source": [
    "#Categorizing the values of the Genre column\n",
    "dict2 ={'Action':0,\n",
    " 'Action;Action & Adventure':1,\n",
    " 'Adventure':2,\n",
    " 'Adventure;Action & Adventure':3,\n",
    " 'Adventure;Brain Games':4,\n",
    " 'Adventure;Education':5,\n",
    " 'Arcade':6,\n",
    " 'Arcade;Action & Adventure':7,\n",
    " 'Arcade;Pretend Play':8,\n",
    " 'Art & Design':9,\n",
    " 'Art & Design;Creativity':10,\n",
    " 'Art & Design;Pretend Play':11,\n",
    " 'Auto & Vehicles':12,\n",
    " 'Beauty':13,\n",
    " 'Board':14,\n",
    " 'Board;Brain Games':15,\n",
    " 'Board;Pretend Play':16,\n",
    " 'Books & Reference':17,\n",
    " 'Books & Reference;Education':18,\n",
    " 'Business':19,\n",
    " 'Card':20,\n",
    " 'Card;Action & Adventure':21,\n",
    " 'Card;Brain Games':22,\n",
    " 'Casino':23,\n",
    " 'Casual':24,\n",
    " 'Casual;Action & Adventure':25,\n",
    " 'Casual;Brain Games':26,\n",
    " 'Casual;Creativity':27,\n",
    " 'Casual;Education':28,\n",
    " 'Casual;Music & Video':29,\n",
    " 'Casual;Pretend Play':30,\n",
    " 'Comics':31,\n",
    " 'Comics;Creativity':32,\n",
    " 'Communication':33,\n",
    " 'Communication;Creativity':34,\n",
    " 'Dating':35,\n",
    " 'Education':36,\n",
    " 'Education;Action & Adventure':37,\n",
    " 'Education;Brain Games':38,\n",
    " 'Education;Creativity':39,\n",
    " 'Education;Education':40,\n",
    " 'Education;Music & Video':41,\n",
    " 'Education;Pretend Play':42,\n",
    " 'Educational':43,\n",
    " 'Educational;Action & Adventure':44,\n",
    " 'Educational;Brain Games':45,\n",
    " 'Educational;Creativity':46,\n",
    " 'Educational;Education':47,\n",
    " 'Educational;Pretend Play':48,\n",
    " 'Entertainment':49,\n",
    " 'Entertainment;Action & Adventure':50,\n",
    " 'Entertainment;Brain Games':51,\n",
    " 'Entertainment;Creativity':52,\n",
    " 'Entertainment;Education':53,\n",
    " 'Entertainment;Music & Video':54,\n",
    " 'Entertainment;Pretend Play':55,\n",
    " 'Events':56,\n",
    " 'Finance':57,\n",
    " 'Food & Drink':58,\n",
    " 'Health & Fitness':59,\n",
    " 'Health & Fitness;Action & Adventure':60,\n",
    " 'Health & Fitness;Education':61,\n",
    " 'House & Home':62,\n",
    " 'Libraries & Demo':63,\n",
    " 'Lifestyle':64,\n",
    " 'Lifestyle;Education':65,\n",
    " 'Lifestyle;Pretend Play':66,\n",
    " 'Maps & Navigation':67,\n",
    " 'Medical':68,\n",
    " 'Music':69,\n",
    " 'Music & Audio;Music & Video':70,\n",
    " 'Music;Music & Video':71,\n",
    " 'News & Magazines':72,\n",
    " 'Parenting':73,\n",
    " 'Parenting;Brain Games':74,\n",
    " 'Parenting;Education':75,\n",
    " 'Parenting;Music & Video':76,\n",
    " 'Personalization':77,\n",
    " 'Photography':78,\n",
    " 'Productivity':79,\n",
    " 'Puzzle':80,\n",
    " 'Puzzle;Action & Adventure':81,\n",
    " 'Puzzle;Brain Games':82,\n",
    " 'Puzzle;Creativity':83,\n",
    " 'Puzzle;Education':84,\n",
    " 'Racing':85,\n",
    " 'Racing;Action & Adventure':86,\n",
    " 'Racing;Pretend Play':87,\n",
    " 'Role Playing':88,\n",
    " 'Role Playing;Action & Adventure':89,\n",
    " 'Role Playing;Brain Games':90,\n",
    " 'Role Playing;Pretend Play':91,\n",
    " 'Shopping':92,\n",
    " 'Simulation':93,\n",
    " 'Simulation;Action & Adventure':94,\n",
    " 'Simulation;Education':95,\n",
    " 'Simulation;Pretend Play':96,\n",
    " 'Social':97,\n",
    " 'Sports':98,\n",
    " 'Sports;Action & Adventure':99,\n",
    " 'Strategy':100,\n",
    " 'Strategy;Action & Adventure':101,\n",
    " 'Strategy;Creativity':102,\n",
    " 'Strategy;Education':103,\n",
    " 'Tools':104,\n",
    " 'Tools;Education':105,\n",
    " 'Travel & Local':106,\n",
    " 'Travel & Local;Action & Adventure':107,\n",
    " 'Trivia':108,\n",
    " 'Video Players & Editors':109,\n",
    " 'Video Players & Editors;Creativity':110,\n",
    " 'Video Players & Editors;Music & Video':111,\n",
    " 'Weather':112,\n",
    " 'Word':113,\n",
    " 'Board;Action & Adventure':114}\n",
    "\n",
    "dfclean['Genres'] = dfclean['Genres'].map(dict2)"
   ]
  },
  {
   "cell_type": "code",
   "execution_count": null,
   "metadata": {},
   "outputs": [],
   "source": [
    "# categorize by Rating\n",
    "dfclean=dfclean.copy()\n",
    "dfclean.loc[df['Rating']<= 2, 'Rating'] = 'Low Rating'\n",
    "dfclean.loc[(df['Rating'] > 2) & (df['Rating'] <= 4), 'Rating'] = 'Average Rating'\n",
    "dfclean.loc[df['Rating'] > 4, 'Rating'] = 'High Rating'"
   ]
  },
  {
   "cell_type": "code",
   "execution_count": null,
   "metadata": {},
   "outputs": [],
   "source": [
    "#Categorizing the values of the Installs column\n",
    "dfclean\n",
    "dfclean['Installs'].unique()"
   ]
  },
  {
   "cell_type": "code",
   "execution_count": null,
   "metadata": {},
   "outputs": [],
   "source": [
    "set(dfclean['Installs'])"
   ]
  },
  {
   "cell_type": "code",
   "execution_count": null,
   "metadata": {},
   "outputs": [],
   "source": [
    "dict3 = {'1+':1,\n",
    " '1,000+':2,\n",
    " '1,000,000+':3,\n",
    " '1,000,000,000+':4,\n",
    " '10+':5,\n",
    " '10,000+':6,\n",
    " '10,000,000+':7,\n",
    " '100+':8,\n",
    " '100,000+':9,\n",
    " '100,000,000+':10,\n",
    " '5+':11,\n",
    " '5,000+':12,\n",
    " '5,000,000+':13,\n",
    " '50+':14,\n",
    " '50,000+':15,\n",
    " '50,000,000+':16,\n",
    " '500+':17,\n",
    " '500,000+':18,\n",
    " '500,000,000+':19}"
   ]
  },
  {
   "cell_type": "code",
   "execution_count": null,
   "metadata": {},
   "outputs": [],
   "source": [
    "dfclean['Installs'] = dfclean['Installs'].map(dict3)"
   ]
  },
  {
   "cell_type": "code",
   "execution_count": null,
   "metadata": {},
   "outputs": [],
   "source": [
    "set(dfclean['Price'])"
   ]
  },
  {
   "cell_type": "code",
   "execution_count": null,
   "metadata": {},
   "outputs": [],
   "source": [
    "#Removing $ in front of Price Column\n",
    "dfclean['Price'] = dfclean['Price'].str.replace('$','')"
   ]
  },
  {
   "cell_type": "code",
   "execution_count": null,
   "metadata": {},
   "outputs": [],
   "source": [
    "#Removing k and M values at the end of the Size Column\n",
    "dfclean['Size'] = dfclean['Size'].str.rstrip('M')\n",
    "dfclean['Size'] = dfclean['Size'].str.rstrip('k')"
   ]
  },
  {
   "cell_type": "code",
   "execution_count": null,
   "metadata": {},
   "outputs": [],
   "source": [
    "dfclean = dfclean[dfclean.Size != 'Varies with device']"
   ]
  },
  {
   "cell_type": "code",
   "execution_count": null,
   "metadata": {},
   "outputs": [],
   "source": [
    "dfclean['Size']=dfclean['Size'].apply(lambda x:float(x))\n",
    "dfclean['Price']=dfclean['Price'].apply(lambda x:float(x))"
   ]
  },
  {
   "cell_type": "code",
   "execution_count": null,
   "metadata": {},
   "outputs": [],
   "source": [
    "dfclean"
   ]
  },
  {
   "cell_type": "code",
   "execution_count": null,
   "metadata": {},
   "outputs": [],
   "source": [
    "dfclean.to_csv(\"./googleps_cleaned.csv\", sep=',',index=False)"
   ]
  },
  {
   "cell_type": "code",
   "execution_count": null,
   "metadata": {},
   "outputs": [],
   "source": [
    "import seaborn as sns\n",
    "plt.figure(figsize=(16, 10))\n",
    "sns.heatmap(dfclean.corr(), annot=True,linewidths=.5)"
   ]
  },
  {
   "cell_type": "code",
   "execution_count": null,
   "metadata": {},
   "outputs": [],
   "source": [
    "sns.set(style=\"ticks\")\n",
    "\n",
    "sns.pairplot(dfclean)"
   ]
  },
  {
   "cell_type": "code",
   "execution_count": null,
   "metadata": {},
   "outputs": [],
   "source": []
  }
 ],
 "metadata": {
  "kernelspec": {
   "display_name": "Python 3",
   "language": "python",
   "name": "python3"
  },
  "language_info": {
   "codemirror_mode": {
    "name": "ipython",
    "version": 3
   },
   "file_extension": ".py",
   "mimetype": "text/x-python",
   "name": "python",
   "nbconvert_exporter": "python",
   "pygments_lexer": "ipython3",
   "version": "3.7.3"
  }
 },
 "nbformat": 4,
 "nbformat_minor": 2
}
